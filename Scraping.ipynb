{
 "cells": [
  {
   "cell_type": "code",
   "execution_count": 1,
   "id": "c98740fb",
   "metadata": {},
   "outputs": [],
   "source": [
    "from bs4 import BeautifulSoup\n",
    "import requests\n",
    "import pandas as pd\n",
    "import numpy as np\n",
    "import string\n",
    "import json"
   ]
  },
  {
   "cell_type": "code",
   "execution_count": 2,
   "id": "e485b2f9",
   "metadata": {},
   "outputs": [],
   "source": [
    "url = 'https://www.omscentral.com/'\n",
    "response = requests.get(url)\n",
    "soup = BeautifulSoup(response.content, 'html.parser')\n",
    "# soup.find_all('table')"
   ]
  },
  {
   "cell_type": "code",
   "execution_count": 18,
   "id": "40107e03",
   "metadata": {},
   "outputs": [],
   "source": [
    "data = soup.select_one('#__NEXT_DATA__')"
   ]
  },
  {
   "cell_type": "code",
   "execution_count": 13,
   "id": "9d669bc8",
   "metadata": {},
   "outputs": [],
   "source": [
    "soup = BeautifulSoup(data, 'html.parser') \n",
    "res = soup.find('script') \n",
    "json_object = json.loads(res.contents[0])"
   ]
  },
  {
   "cell_type": "code",
   "execution_count": 21,
   "id": "1f72c195",
   "metadata": {},
   "outputs": [],
   "source": [
    "data = soup.select_one('#__NEXT_DATA__')\n",
    "courses = json.loads(data.contents[0])['props']['pageProps']['courses']"
   ]
  },
  {
   "cell_type": "code",
   "execution_count": 44,
   "id": "b91f9c3d",
   "metadata": {},
   "outputs": [
    {
     "data": {
      "text/html": [
       "<div>\n",
       "<style scoped>\n",
       "    .dataframe tbody tr th:only-of-type {\n",
       "        vertical-align: middle;\n",
       "    }\n",
       "\n",
       "    .dataframe tbody tr th {\n",
       "        vertical-align: top;\n",
       "    }\n",
       "\n",
       "    .dataframe thead th {\n",
       "        text-align: right;\n",
       "    }\n",
       "</style>\n",
       "<table border=\"1\" class=\"dataframe\">\n",
       "  <thead>\n",
       "    <tr style=\"text-align: right;\">\n",
       "      <th></th>\n",
       "      <th>created</th>\n",
       "      <th>difficulty</th>\n",
       "      <th>id</th>\n",
       "      <th>rating</th>\n",
       "      <th>workload</th>\n",
       "    </tr>\n",
       "  </thead>\n",
       "  <tbody>\n",
       "    <tr>\n",
       "      <th>0</th>\n",
       "      <td>2022-08-14T03:39:14Z</td>\n",
       "      <td>1</td>\n",
       "      <td>I85e2pBlQ8Ku7mLFcPZjYV</td>\n",
       "      <td>1.0</td>\n",
       "      <td>10.0</td>\n",
       "    </tr>\n",
       "    <tr>\n",
       "      <th>1</th>\n",
       "      <td>2022-08-05T03:03:15Z</td>\n",
       "      <td>3</td>\n",
       "      <td>LZcH8OQfhbE1IkMdNFr0io</td>\n",
       "      <td>5.0</td>\n",
       "      <td>20.0</td>\n",
       "    </tr>\n",
       "    <tr>\n",
       "      <th>2</th>\n",
       "      <td>2022-05-02T00:57:07Z</td>\n",
       "      <td>1</td>\n",
       "      <td>external-import-d40c1689-5d3d-4ad8-be25-e737cf...</td>\n",
       "      <td>4.0</td>\n",
       "      <td>4.0</td>\n",
       "    </tr>\n",
       "    <tr>\n",
       "      <th>3</th>\n",
       "      <td>2022-04-29T21:03:32Z</td>\n",
       "      <td>2</td>\n",
       "      <td>external-import-6ba6c430-bee8-4bbf-bbee-e5b532...</td>\n",
       "      <td>4.0</td>\n",
       "      <td>10.0</td>\n",
       "    </tr>\n",
       "    <tr>\n",
       "      <th>4</th>\n",
       "      <td>2022-04-24T16:55:50Z</td>\n",
       "      <td>2</td>\n",
       "      <td>external-import-bca644f7-f218-4d33-8b18-cb78bb...</td>\n",
       "      <td>5.0</td>\n",
       "      <td>11.0</td>\n",
       "    </tr>\n",
       "    <tr>\n",
       "      <th>...</th>\n",
       "      <td>...</td>\n",
       "      <td>...</td>\n",
       "      <td>...</td>\n",
       "      <td>...</td>\n",
       "      <td>...</td>\n",
       "    </tr>\n",
       "    <tr>\n",
       "      <th>414</th>\n",
       "      <td>2015-11-05T06:00:00Z</td>\n",
       "      <td>2</td>\n",
       "      <td>external-import-84f2e3bd-b098-46ac-a09f-26064e...</td>\n",
       "      <td>NaN</td>\n",
       "      <td>10.0</td>\n",
       "    </tr>\n",
       "    <tr>\n",
       "      <th>415</th>\n",
       "      <td>2015-11-05T06:00:00Z</td>\n",
       "      <td>2</td>\n",
       "      <td>external-import-a7da8e47-b6a9-4550-833e-eacf04...</td>\n",
       "      <td>NaN</td>\n",
       "      <td>10.0</td>\n",
       "    </tr>\n",
       "    <tr>\n",
       "      <th>416</th>\n",
       "      <td>2015-11-05T06:00:00Z</td>\n",
       "      <td>2</td>\n",
       "      <td>external-import-ac721080-2d01-4e61-bfb0-c8d17c...</td>\n",
       "      <td>NaN</td>\n",
       "      <td>10.0</td>\n",
       "    </tr>\n",
       "    <tr>\n",
       "      <th>417</th>\n",
       "      <td>2015-11-05T06:00:00Z</td>\n",
       "      <td>3</td>\n",
       "      <td>external-import-b2585673-b3be-41ce-a9b3-99e421...</td>\n",
       "      <td>NaN</td>\n",
       "      <td>10.0</td>\n",
       "    </tr>\n",
       "    <tr>\n",
       "      <th>418</th>\n",
       "      <td>2015-11-05T06:00:00Z</td>\n",
       "      <td>3</td>\n",
       "      <td>external-import-bb6b1834-cffb-43bb-bc62-afb329...</td>\n",
       "      <td>NaN</td>\n",
       "      <td>5.0</td>\n",
       "    </tr>\n",
       "  </tbody>\n",
       "</table>\n",
       "<p>419 rows × 5 columns</p>\n",
       "</div>"
      ],
      "text/plain": [
       "                  created  difficulty  \\\n",
       "0    2022-08-14T03:39:14Z           1   \n",
       "1    2022-08-05T03:03:15Z           3   \n",
       "2    2022-05-02T00:57:07Z           1   \n",
       "3    2022-04-29T21:03:32Z           2   \n",
       "4    2022-04-24T16:55:50Z           2   \n",
       "..                    ...         ...   \n",
       "414  2015-11-05T06:00:00Z           2   \n",
       "415  2015-11-05T06:00:00Z           2   \n",
       "416  2015-11-05T06:00:00Z           2   \n",
       "417  2015-11-05T06:00:00Z           3   \n",
       "418  2015-11-05T06:00:00Z           3   \n",
       "\n",
       "                                                    id  rating  workload  \n",
       "0                               I85e2pBlQ8Ku7mLFcPZjYV     1.0      10.0  \n",
       "1                               LZcH8OQfhbE1IkMdNFr0io     5.0      20.0  \n",
       "2    external-import-d40c1689-5d3d-4ad8-be25-e737cf...     4.0       4.0  \n",
       "3    external-import-6ba6c430-bee8-4bbf-bbee-e5b532...     4.0      10.0  \n",
       "4    external-import-bca644f7-f218-4d33-8b18-cb78bb...     5.0      11.0  \n",
       "..                                                 ...     ...       ...  \n",
       "414  external-import-84f2e3bd-b098-46ac-a09f-26064e...     NaN      10.0  \n",
       "415  external-import-a7da8e47-b6a9-4550-833e-eacf04...     NaN      10.0  \n",
       "416  external-import-ac721080-2d01-4e61-bfb0-c8d17c...     NaN      10.0  \n",
       "417  external-import-b2585673-b3be-41ce-a9b3-99e421...     NaN      10.0  \n",
       "418  external-import-bb6b1834-cffb-43bb-bc62-afb329...     NaN       5.0  \n",
       "\n",
       "[419 rows x 5 columns]"
      ]
     },
     "execution_count": 44,
     "metadata": {},
     "output_type": "execute_result"
    }
   ],
   "source": [
    "c_reviews = pd.json_normalize(courses[0]['reviews'])\n",
    "c_reviews"
   ]
  },
  {
   "cell_type": "code",
   "execution_count": 48,
   "id": "d2bdb473",
   "metadata": {},
   "outputs": [],
   "source": [
    "reviews = pd.DataFrame()\n",
    "\n",
    "for i in range(len(courses)):\n",
    "    course = courses[i]['name']\n",
    "    c_reviews = pd.json_normalize(courses[i]['reviews'])\n",
    "    c_reviews[\"Course\"] = course\n",
    "    reviews = pd.concat([reviews, c_reviews])"
   ]
  },
  {
   "cell_type": "code",
   "execution_count": 55,
   "id": "a362bcf1",
   "metadata": {},
   "outputs": [
    {
     "data": {
      "text/html": [
       "<div>\n",
       "<style scoped>\n",
       "    .dataframe tbody tr th:only-of-type {\n",
       "        vertical-align: middle;\n",
       "    }\n",
       "\n",
       "    .dataframe tbody tr th {\n",
       "        vertical-align: top;\n",
       "    }\n",
       "\n",
       "    .dataframe thead th {\n",
       "        text-align: right;\n",
       "    }\n",
       "</style>\n",
       "<table border=\"1\" class=\"dataframe\">\n",
       "  <thead>\n",
       "    <tr style=\"text-align: right;\">\n",
       "      <th></th>\n",
       "      <th>created</th>\n",
       "      <th>difficulty</th>\n",
       "      <th>id</th>\n",
       "      <th>rating</th>\n",
       "      <th>workload</th>\n",
       "    </tr>\n",
       "  </thead>\n",
       "  <tbody>\n",
       "    <tr>\n",
       "      <th>0</th>\n",
       "      <td>2022-08-14T03:39:14Z</td>\n",
       "      <td>1</td>\n",
       "      <td>I85e2pBlQ8Ku7mLFcPZjYV</td>\n",
       "      <td>1.0</td>\n",
       "      <td>10.0</td>\n",
       "    </tr>\n",
       "    <tr>\n",
       "      <th>1</th>\n",
       "      <td>2022-08-05T03:03:15Z</td>\n",
       "      <td>3</td>\n",
       "      <td>LZcH8OQfhbE1IkMdNFr0io</td>\n",
       "      <td>5.0</td>\n",
       "      <td>20.0</td>\n",
       "    </tr>\n",
       "    <tr>\n",
       "      <th>2</th>\n",
       "      <td>2022-05-02T00:57:07Z</td>\n",
       "      <td>1</td>\n",
       "      <td>external-import-d40c1689-5d3d-4ad8-be25-e737cf...</td>\n",
       "      <td>4.0</td>\n",
       "      <td>4.0</td>\n",
       "    </tr>\n",
       "    <tr>\n",
       "      <th>3</th>\n",
       "      <td>2022-04-29T21:03:32Z</td>\n",
       "      <td>2</td>\n",
       "      <td>external-import-6ba6c430-bee8-4bbf-bbee-e5b532...</td>\n",
       "      <td>4.0</td>\n",
       "      <td>10.0</td>\n",
       "    </tr>\n",
       "    <tr>\n",
       "      <th>4</th>\n",
       "      <td>2022-04-24T16:55:50Z</td>\n",
       "      <td>2</td>\n",
       "      <td>external-import-bca644f7-f218-4d33-8b18-cb78bb...</td>\n",
       "      <td>5.0</td>\n",
       "      <td>11.0</td>\n",
       "    </tr>\n",
       "    <tr>\n",
       "      <th>...</th>\n",
       "      <td>...</td>\n",
       "      <td>...</td>\n",
       "      <td>...</td>\n",
       "      <td>...</td>\n",
       "      <td>...</td>\n",
       "    </tr>\n",
       "    <tr>\n",
       "      <th>414</th>\n",
       "      <td>2015-11-05T06:00:00Z</td>\n",
       "      <td>2</td>\n",
       "      <td>external-import-84f2e3bd-b098-46ac-a09f-26064e...</td>\n",
       "      <td>NaN</td>\n",
       "      <td>10.0</td>\n",
       "    </tr>\n",
       "    <tr>\n",
       "      <th>415</th>\n",
       "      <td>2015-11-05T06:00:00Z</td>\n",
       "      <td>2</td>\n",
       "      <td>external-import-a7da8e47-b6a9-4550-833e-eacf04...</td>\n",
       "      <td>NaN</td>\n",
       "      <td>10.0</td>\n",
       "    </tr>\n",
       "    <tr>\n",
       "      <th>416</th>\n",
       "      <td>2015-11-05T06:00:00Z</td>\n",
       "      <td>2</td>\n",
       "      <td>external-import-ac721080-2d01-4e61-bfb0-c8d17c...</td>\n",
       "      <td>NaN</td>\n",
       "      <td>10.0</td>\n",
       "    </tr>\n",
       "    <tr>\n",
       "      <th>417</th>\n",
       "      <td>2015-11-05T06:00:00Z</td>\n",
       "      <td>3</td>\n",
       "      <td>external-import-b2585673-b3be-41ce-a9b3-99e421...</td>\n",
       "      <td>NaN</td>\n",
       "      <td>10.0</td>\n",
       "    </tr>\n",
       "    <tr>\n",
       "      <th>418</th>\n",
       "      <td>2015-11-05T06:00:00Z</td>\n",
       "      <td>3</td>\n",
       "      <td>external-import-bb6b1834-cffb-43bb-bc62-afb329...</td>\n",
       "      <td>NaN</td>\n",
       "      <td>5.0</td>\n",
       "    </tr>\n",
       "  </tbody>\n",
       "</table>\n",
       "<p>419 rows × 5 columns</p>\n",
       "</div>"
      ],
      "text/plain": [
       "                  created  difficulty  \\\n",
       "0    2022-08-14T03:39:14Z           1   \n",
       "1    2022-08-05T03:03:15Z           3   \n",
       "2    2022-05-02T00:57:07Z           1   \n",
       "3    2022-04-29T21:03:32Z           2   \n",
       "4    2022-04-24T16:55:50Z           2   \n",
       "..                    ...         ...   \n",
       "414  2015-11-05T06:00:00Z           2   \n",
       "415  2015-11-05T06:00:00Z           2   \n",
       "416  2015-11-05T06:00:00Z           2   \n",
       "417  2015-11-05T06:00:00Z           3   \n",
       "418  2015-11-05T06:00:00Z           3   \n",
       "\n",
       "                                                    id  rating  workload  \n",
       "0                               I85e2pBlQ8Ku7mLFcPZjYV     1.0      10.0  \n",
       "1                               LZcH8OQfhbE1IkMdNFr0io     5.0      20.0  \n",
       "2    external-import-d40c1689-5d3d-4ad8-be25-e737cf...     4.0       4.0  \n",
       "3    external-import-6ba6c430-bee8-4bbf-bbee-e5b532...     4.0      10.0  \n",
       "4    external-import-bca644f7-f218-4d33-8b18-cb78bb...     5.0      11.0  \n",
       "..                                                 ...     ...       ...  \n",
       "414  external-import-84f2e3bd-b098-46ac-a09f-26064e...     NaN      10.0  \n",
       "415  external-import-a7da8e47-b6a9-4550-833e-eacf04...     NaN      10.0  \n",
       "416  external-import-ac721080-2d01-4e61-bfb0-c8d17c...     NaN      10.0  \n",
       "417  external-import-b2585673-b3be-41ce-a9b3-99e421...     NaN      10.0  \n",
       "418  external-import-bb6b1834-cffb-43bb-bc62-afb329...     NaN       5.0  \n",
       "\n",
       "[419 rows x 5 columns]"
      ]
     },
     "execution_count": 55,
     "metadata": {},
     "output_type": "execute_result"
    }
   ],
   "source": [
    "pd.json_normalize(courses[0]['reviews'])"
   ]
  },
  {
   "cell_type": "code",
   "execution_count": 57,
   "id": "9d5cfde3",
   "metadata": {},
   "outputs": [],
   "source": [
    "agg = reviews.groupby([\"Course\"]).agg({'difficulty':np.nanmean,'workload':np.nanmean,'rating':np.nanmean,'id':'count'})"
   ]
  },
  {
   "cell_type": "code",
   "execution_count": 58,
   "id": "20102767",
   "metadata": {},
   "outputs": [
    {
     "data": {
      "text/html": [
       "<div>\n",
       "<style scoped>\n",
       "    .dataframe tbody tr th:only-of-type {\n",
       "        vertical-align: middle;\n",
       "    }\n",
       "\n",
       "    .dataframe tbody tr th {\n",
       "        vertical-align: top;\n",
       "    }\n",
       "\n",
       "    .dataframe thead th {\n",
       "        text-align: right;\n",
       "    }\n",
       "</style>\n",
       "<table border=\"1\" class=\"dataframe\">\n",
       "  <thead>\n",
       "    <tr style=\"text-align: right;\">\n",
       "      <th></th>\n",
       "      <th>difficulty</th>\n",
       "      <th>workload</th>\n",
       "      <th>rating</th>\n",
       "      <th>id</th>\n",
       "    </tr>\n",
       "    <tr>\n",
       "      <th>Course</th>\n",
       "      <th></th>\n",
       "      <th></th>\n",
       "      <th></th>\n",
       "      <th></th>\n",
       "    </tr>\n",
       "  </thead>\n",
       "  <tbody>\n",
       "    <tr>\n",
       "      <th>AI, Ethics &amp; Society</th>\n",
       "      <td>1.700000</td>\n",
       "      <td>6.040000</td>\n",
       "      <td>2.660000</td>\n",
       "      <td>50</td>\n",
       "    </tr>\n",
       "    <tr>\n",
       "      <th>Advanced Internet Systems &amp; Applications</th>\n",
       "      <td>3.166667</td>\n",
       "      <td>13.166667</td>\n",
       "      <td>3.000000</td>\n",
       "      <td>6</td>\n",
       "    </tr>\n",
       "    <tr>\n",
       "      <th>Advanced Malware Analysis</th>\n",
       "      <td>3.571429</td>\n",
       "      <td>16.142857</td>\n",
       "      <td>4.571429</td>\n",
       "      <td>7</td>\n",
       "    </tr>\n",
       "    <tr>\n",
       "      <th>Advanced Operating Systems</th>\n",
       "      <td>4.157025</td>\n",
       "      <td>17.173554</td>\n",
       "      <td>4.116279</td>\n",
       "      <td>121</td>\n",
       "    </tr>\n",
       "    <tr>\n",
       "      <th>Applied Analytics Practicum</th>\n",
       "      <td>2.250000</td>\n",
       "      <td>13.500000</td>\n",
       "      <td>4.250000</td>\n",
       "      <td>4</td>\n",
       "    </tr>\n",
       "    <tr>\n",
       "      <th>...</th>\n",
       "      <td>...</td>\n",
       "      <td>...</td>\n",
       "      <td>...</td>\n",
       "      <td>...</td>\n",
       "    </tr>\n",
       "    <tr>\n",
       "      <th>Software Architecture &amp; Design</th>\n",
       "      <td>2.603175</td>\n",
       "      <td>11.558511</td>\n",
       "      <td>3.127389</td>\n",
       "      <td>189</td>\n",
       "    </tr>\n",
       "    <tr>\n",
       "      <th>Software Development Process</th>\n",
       "      <td>2.301948</td>\n",
       "      <td>9.043434</td>\n",
       "      <td>3.601695</td>\n",
       "      <td>308</td>\n",
       "    </tr>\n",
       "    <tr>\n",
       "      <th>Systems Issues in Cloud Computing</th>\n",
       "      <td>4.444444</td>\n",
       "      <td>30.555556</td>\n",
       "      <td>4.666667</td>\n",
       "      <td>9</td>\n",
       "    </tr>\n",
       "    <tr>\n",
       "      <th>Time Series Analysis</th>\n",
       "      <td>4.281250</td>\n",
       "      <td>15.468750</td>\n",
       "      <td>1.843750</td>\n",
       "      <td>32</td>\n",
       "    </tr>\n",
       "    <tr>\n",
       "      <th>Video Game Design</th>\n",
       "      <td>2.214286</td>\n",
       "      <td>13.071429</td>\n",
       "      <td>4.357143</td>\n",
       "      <td>14</td>\n",
       "    </tr>\n",
       "  </tbody>\n",
       "</table>\n",
       "<p>76 rows × 4 columns</p>\n",
       "</div>"
      ],
      "text/plain": [
       "                                          difficulty   workload    rating   id\n",
       "Course                                                                        \n",
       "AI, Ethics & Society                        1.700000   6.040000  2.660000   50\n",
       "Advanced Internet Systems & Applications    3.166667  13.166667  3.000000    6\n",
       "Advanced Malware Analysis                   3.571429  16.142857  4.571429    7\n",
       "Advanced Operating Systems                  4.157025  17.173554  4.116279  121\n",
       "Applied Analytics Practicum                 2.250000  13.500000  4.250000    4\n",
       "...                                              ...        ...       ...  ...\n",
       "Software Architecture & Design              2.603175  11.558511  3.127389  189\n",
       "Software Development Process                2.301948   9.043434  3.601695  308\n",
       "Systems Issues in Cloud Computing           4.444444  30.555556  4.666667    9\n",
       "Time Series Analysis                        4.281250  15.468750  1.843750   32\n",
       "Video Game Design                           2.214286  13.071429  4.357143   14\n",
       "\n",
       "[76 rows x 4 columns]"
      ]
     },
     "execution_count": 58,
     "metadata": {},
     "output_type": "execute_result"
    }
   ],
   "source": [
    "agg = agg.reset_index()"
   ]
  },
  {
   "cell_type": "code",
   "execution_count": 70,
   "id": "cbbed9e5",
   "metadata": {},
   "outputs": [
    {
     "data": {
      "application/vnd.plotly.v1+json": {
       "config": {
        "plotlyServerURL": "https://plot.ly"
       },
       "data": [
        {
         "hovertemplate": "<b>%{hovertext}</b><br><br>difficulty=%{x}<br>rating=%{y}<br>workload=%{marker.size}<br>id=%{marker.color}<extra></extra>",
         "hovertext": [
          "AI, Ethics & Society",
          "Advanced Internet Systems & Applications",
          "Advanced Malware Analysis",
          "Advanced Operating Systems",
          "Applied Analytics Practicum",
          "Applied Cryptography",
          "Artificial Intelligence",
          "Artificial Intelligence for Robotics",
          "Bayesian Statistics",
          "Big Data for Health Informatics",
          "Business Fundamentals for Analytics",
          "Compilers: Theory & Practice",
          "Computational Data Analytics",
          "Computational Journalism",
          "Computational Photography",
          "Computational Statistics",
          "Computer Networks",
          "Computer Vision",
          "Computing for Data Analytics",
          "Computing for Good",
          "Cyber Physical Design & Analysis",
          "Data & Visual Analytics",
          "Data Analytics & Business",
          "Data Analytics & Continuous Improvement",
          "Data Analytics & Security",
          "Data Mining & Statistical Learning",
          "Database Systems Concepts & Design",
          "Deep Learning",
          "Deterministic Optimization",
          "Digital Marketing",
          "Distributed Computing",
          "Educational Technology",
          "Embedded Software",
          "Embedded Systems Optimization",
          "Financial Modeling",
          "Game AI",
          "High Performance Computer Architecture",
          "High Performance Computing",
          "High-Dimensional Data Analytics",
          "Human-Computer Interaction",
          "Information & Communications Policy",
          "Information Policy & Management",
          "Information Security Lab",
          "Information Security Lab: System & Network Defenses",
          "Information Security Policies",
          "International Security",
          "Internet & Public Policy",
          "Introduction to Analytics Modeling",
          "Introduction to Cognitive Science",
          "Introduction to Cyber Physical Electric Energy Systems",
          "Introduction to Cyber Physical Systems Security",
          "Introduction to Graduate Algorithms",
          "Introduction to Health Informatics",
          "Introduction to Information Security",
          "Introduction to Operating Systems",
          "Knowledge-Based Artificial Intelligence: Cognitive Systems",
          "Machine Learning",
          "Machine Learning for Trading",
          "Mobile & Ubiquitous Computing",
          "Modeling, Simulation & Military Gaming",
          "Network Science",
          "Network Security",
          "Privacy for Professionals",
          "Probabilistic Models",
          "Regression Analysis",
          "Reinforcement Learning",
          "Secure Computer Systems",
          "Security Operations & Incidence Response",
          "Side Channels & Their Role in Cybersecurity",
          "Simulation & Modeling for Engineering & Science",
          "Software Analysis",
          "Software Architecture & Design",
          "Software Development Process",
          "Systems Issues in Cloud Computing",
          "Time Series Analysis",
          "Video Game Design"
         ],
         "legendgroup": "",
         "marker": {
          "color": [
           50,
           6,
           7,
           121,
           4,
           39,
           243,
           275,
           57,
           72,
           84,
           16,
           35,
           1,
           183,
           1,
           436,
           190,
           112,
           2,
           32,
           262,
           108,
           13,
           21,
           18,
           238,
           73,
           42,
           25,
           31,
           94,
           11,
           35,
           15,
           17,
           108,
           78,
           32,
           212,
           3,
           8,
           20,
           4,
           17,
           7,
           1,
           152,
           3,
           1,
           74,
           323,
           106,
           419,
           308,
           281,
           354,
           363,
           2,
           4,
           25,
           128,
           12,
           1,
           90,
           191,
           29,
           7,
           1,
           101,
           140,
           189,
           308,
           9,
           32,
           14
          ],
          "coloraxis": "coloraxis",
          "size": [
           6.04,
           13.166666666666666,
           16.142857142857142,
           17.173553719008265,
           13.5,
           16.58974358974359,
           22.91358024691358,
           12.639194139194139,
           12.368421052631579,
           29.13888888888889,
           7.946428571428571,
           29.875,
           14.6,
           15,
           16.761111111111113,
           12,
           8.782885085574572,
           21.436842105263157,
           9.981818181818182,
           8.5,
           12.125,
           16.14423076923077,
           5.671296296296297,
           4,
           3.7142857142857144,
           15,
           11.149789029535865,
           18.753424657534246,
           13.142857142857142,
           3.36,
           61.87096774193548,
           14.236559139784946,
           15.818181818181818,
           15.942857142857143,
           4.533333333333333,
           11.588235294117647,
           15.055555555555555,
           19.71794871794872,
           18.09375,
           12.034905660377358,
           2.3333333333333335,
           10.375,
           29.85,
           17.5,
           6.470588235294118,
           2.857142857142857,
           3,
           9.748344370860927,
           15,
           15,
           9.891891891891891,
           19.230529595015575,
           10.164893617021276,
           10.423508353221958,
           18.34397394136808,
           13.898214285714285,
           21.3792,
           11.183798882681565,
           8,
           6,
           13.12,
           12.84765625,
           3.5,
           5,
           8.911111111111111,
           22.329842931937172,
           14.655172413793103,
           5.428571428571429,
           10,
           11.05940594059406,
           12.621428571428572,
           11.558510638297872,
           9.043434343434344,
           30.555555555555557,
           15.46875,
           13.071428571428571
          ],
          "sizemode": "area",
          "sizeref": 0.024748387096774193,
          "symbol": "circle"
         },
         "mode": "markers",
         "name": "",
         "orientation": "v",
         "showlegend": false,
         "type": "scatter",
         "x": [
          1.7,
          3.1666666666666665,
          3.5714285714285716,
          4.1570247933884295,
          2.25,
          3.6923076923076925,
          4.061728395061729,
          3,
          3.210526315789474,
          4.277777777777778,
          2.9761904761904763,
          4.6875,
          3.6285714285714286,
          3,
          3.2185792349726774,
          3,
          2.4174311926605503,
          4.0473684210526315,
          3.1517857142857144,
          2,
          3.15625,
          3.2298850574712645,
          1.9259259259259258,
          1.1538461538461537,
          1.380952380952381,
          2.3333333333333335,
          2.827731092436975,
          3.8904109589041096,
          3.8095238095238093,
          1.32,
          4.645161290322581,
          2.8297872340425534,
          3.5454545454545454,
          3.6,
          1.2666666666666666,
          2.5294117647058822,
          3.6296296296296298,
          4.282051282051282,
          4.09375,
          2.5330188679245285,
          1.3333333333333333,
          2.5,
          4.3,
          4,
          1.8823529411764706,
          2.2857142857142856,
          1,
          2.8157894736842106,
          2.6666666666666665,
          4,
          2.5945945945945947,
          4.108359133126935,
          2.2641509433962264,
          2.539379474940334,
          3.668831168831169,
          3.0818505338078293,
          4.11864406779661,
          2.534435261707989,
          3,
          1.75,
          2.88,
          3.015625,
          2.0833333333333335,
          2,
          2.8444444444444446,
          4.146596858638744,
          3.4482758620689653,
          2,
          3,
          3.1881188118811883,
          3.2142857142857144,
          2.6031746031746033,
          2.301948051948052,
          4.444444444444445,
          4.28125,
          2.2142857142857144
         ],
         "xaxis": "x",
         "y": [
          2.66,
          3,
          4.571428571428571,
          4.116279069767442,
          4.25,
          3.5384615384615383,
          4.122362869198312,
          3.9029535864978904,
          2.807017543859649,
          3.737704918032787,
          2.392857142857143,
          3.9375,
          4.0285714285714285,
          4,
          3.5947712418300655,
          3,
          3.524390243902439,
          3.765432098765432,
          4.330357142857143,
          2.5,
          2.96875,
          2.9808429118773945,
          2.3055555555555554,
          3.6153846153846154,
          2.9047619047619047,
          3.6666666666666665,
          2.59656652360515,
          3.9863013698630136,
          3.761904761904762,
          4.36,
          2.935483870967742,
          3.966666666666667,
          3.7,
          3.6,
          3.1333333333333333,
          4.705882352941177,
          3.840909090909091,
          4.2835820895522385,
          4.25,
          4.1084905660377355,
          4.333333333333333,
          2.75,
          4.55,
          3.25,
          3.4705882352941178,
          3.2857142857142856,
          4,
          4.151315789473684,
          4,
          2,
          3.418918918918919,
          3.551094890510949,
          2.566265060240964,
          3.4475,
          4.3604651162790695,
          3.6712962962962963,
          3.21602787456446,
          4.035190615835777,
          3,
          3.75,
          3.32,
          3.2109375,
          4.166666666666667,
          4,
          3.2555555555555555,
          3.92896174863388,
          2.9655172413793105,
          4.142857142857143,
          5,
          4.247524752475248,
          3.5,
          3.127388535031847,
          3.6016949152542375,
          4.666666666666667,
          1.84375,
          4.357142857142857
         ],
         "yaxis": "y"
        }
       ],
       "layout": {
        "coloraxis": {
         "colorbar": {
          "title": {
           "text": "id"
          }
         },
         "colorscale": [
          [
           0,
           "#440154"
          ],
          [
           0.1111111111111111,
           "#482878"
          ],
          [
           0.2222222222222222,
           "#3e4989"
          ],
          [
           0.3333333333333333,
           "#31688e"
          ],
          [
           0.4444444444444444,
           "#26828e"
          ],
          [
           0.5555555555555556,
           "#1f9e89"
          ],
          [
           0.6666666666666666,
           "#35b779"
          ],
          [
           0.7777777777777778,
           "#6ece58"
          ],
          [
           0.8888888888888888,
           "#b5de2b"
          ],
          [
           1,
           "#fde725"
          ]
         ]
        },
        "legend": {
         "itemsizing": "constant",
         "tracegroupgap": 0
        },
        "shapes": [
         {
          "type": "line",
          "x0": 0,
          "x1": 1,
          "xref": "x domain",
          "y0": 3,
          "y1": 3,
          "yref": "y"
         },
         {
          "type": "line",
          "x0": 3,
          "x1": 3,
          "xref": "x",
          "y0": 0,
          "y1": 1,
          "yref": "y domain"
         }
        ],
        "template": {
         "data": {
          "bar": [
           {
            "error_x": {
             "color": "#2a3f5f"
            },
            "error_y": {
             "color": "#2a3f5f"
            },
            "marker": {
             "line": {
              "color": "#E5ECF6",
              "width": 0.5
             },
             "pattern": {
              "fillmode": "overlay",
              "size": 10,
              "solidity": 0.2
             }
            },
            "type": "bar"
           }
          ],
          "barpolar": [
           {
            "marker": {
             "line": {
              "color": "#E5ECF6",
              "width": 0.5
             },
             "pattern": {
              "fillmode": "overlay",
              "size": 10,
              "solidity": 0.2
             }
            },
            "type": "barpolar"
           }
          ],
          "carpet": [
           {
            "aaxis": {
             "endlinecolor": "#2a3f5f",
             "gridcolor": "white",
             "linecolor": "white",
             "minorgridcolor": "white",
             "startlinecolor": "#2a3f5f"
            },
            "baxis": {
             "endlinecolor": "#2a3f5f",
             "gridcolor": "white",
             "linecolor": "white",
             "minorgridcolor": "white",
             "startlinecolor": "#2a3f5f"
            },
            "type": "carpet"
           }
          ],
          "choropleth": [
           {
            "colorbar": {
             "outlinewidth": 0,
             "ticks": ""
            },
            "type": "choropleth"
           }
          ],
          "contour": [
           {
            "colorbar": {
             "outlinewidth": 0,
             "ticks": ""
            },
            "colorscale": [
             [
              0,
              "#0d0887"
             ],
             [
              0.1111111111111111,
              "#46039f"
             ],
             [
              0.2222222222222222,
              "#7201a8"
             ],
             [
              0.3333333333333333,
              "#9c179e"
             ],
             [
              0.4444444444444444,
              "#bd3786"
             ],
             [
              0.5555555555555556,
              "#d8576b"
             ],
             [
              0.6666666666666666,
              "#ed7953"
             ],
             [
              0.7777777777777778,
              "#fb9f3a"
             ],
             [
              0.8888888888888888,
              "#fdca26"
             ],
             [
              1,
              "#f0f921"
             ]
            ],
            "type": "contour"
           }
          ],
          "contourcarpet": [
           {
            "colorbar": {
             "outlinewidth": 0,
             "ticks": ""
            },
            "type": "contourcarpet"
           }
          ],
          "heatmap": [
           {
            "colorbar": {
             "outlinewidth": 0,
             "ticks": ""
            },
            "colorscale": [
             [
              0,
              "#0d0887"
             ],
             [
              0.1111111111111111,
              "#46039f"
             ],
             [
              0.2222222222222222,
              "#7201a8"
             ],
             [
              0.3333333333333333,
              "#9c179e"
             ],
             [
              0.4444444444444444,
              "#bd3786"
             ],
             [
              0.5555555555555556,
              "#d8576b"
             ],
             [
              0.6666666666666666,
              "#ed7953"
             ],
             [
              0.7777777777777778,
              "#fb9f3a"
             ],
             [
              0.8888888888888888,
              "#fdca26"
             ],
             [
              1,
              "#f0f921"
             ]
            ],
            "type": "heatmap"
           }
          ],
          "heatmapgl": [
           {
            "colorbar": {
             "outlinewidth": 0,
             "ticks": ""
            },
            "colorscale": [
             [
              0,
              "#0d0887"
             ],
             [
              0.1111111111111111,
              "#46039f"
             ],
             [
              0.2222222222222222,
              "#7201a8"
             ],
             [
              0.3333333333333333,
              "#9c179e"
             ],
             [
              0.4444444444444444,
              "#bd3786"
             ],
             [
              0.5555555555555556,
              "#d8576b"
             ],
             [
              0.6666666666666666,
              "#ed7953"
             ],
             [
              0.7777777777777778,
              "#fb9f3a"
             ],
             [
              0.8888888888888888,
              "#fdca26"
             ],
             [
              1,
              "#f0f921"
             ]
            ],
            "type": "heatmapgl"
           }
          ],
          "histogram": [
           {
            "marker": {
             "pattern": {
              "fillmode": "overlay",
              "size": 10,
              "solidity": 0.2
             }
            },
            "type": "histogram"
           }
          ],
          "histogram2d": [
           {
            "colorbar": {
             "outlinewidth": 0,
             "ticks": ""
            },
            "colorscale": [
             [
              0,
              "#0d0887"
             ],
             [
              0.1111111111111111,
              "#46039f"
             ],
             [
              0.2222222222222222,
              "#7201a8"
             ],
             [
              0.3333333333333333,
              "#9c179e"
             ],
             [
              0.4444444444444444,
              "#bd3786"
             ],
             [
              0.5555555555555556,
              "#d8576b"
             ],
             [
              0.6666666666666666,
              "#ed7953"
             ],
             [
              0.7777777777777778,
              "#fb9f3a"
             ],
             [
              0.8888888888888888,
              "#fdca26"
             ],
             [
              1,
              "#f0f921"
             ]
            ],
            "type": "histogram2d"
           }
          ],
          "histogram2dcontour": [
           {
            "colorbar": {
             "outlinewidth": 0,
             "ticks": ""
            },
            "colorscale": [
             [
              0,
              "#0d0887"
             ],
             [
              0.1111111111111111,
              "#46039f"
             ],
             [
              0.2222222222222222,
              "#7201a8"
             ],
             [
              0.3333333333333333,
              "#9c179e"
             ],
             [
              0.4444444444444444,
              "#bd3786"
             ],
             [
              0.5555555555555556,
              "#d8576b"
             ],
             [
              0.6666666666666666,
              "#ed7953"
             ],
             [
              0.7777777777777778,
              "#fb9f3a"
             ],
             [
              0.8888888888888888,
              "#fdca26"
             ],
             [
              1,
              "#f0f921"
             ]
            ],
            "type": "histogram2dcontour"
           }
          ],
          "mesh3d": [
           {
            "colorbar": {
             "outlinewidth": 0,
             "ticks": ""
            },
            "type": "mesh3d"
           }
          ],
          "parcoords": [
           {
            "line": {
             "colorbar": {
              "outlinewidth": 0,
              "ticks": ""
             }
            },
            "type": "parcoords"
           }
          ],
          "pie": [
           {
            "automargin": true,
            "type": "pie"
           }
          ],
          "scatter": [
           {
            "marker": {
             "colorbar": {
              "outlinewidth": 0,
              "ticks": ""
             }
            },
            "type": "scatter"
           }
          ],
          "scatter3d": [
           {
            "line": {
             "colorbar": {
              "outlinewidth": 0,
              "ticks": ""
             }
            },
            "marker": {
             "colorbar": {
              "outlinewidth": 0,
              "ticks": ""
             }
            },
            "type": "scatter3d"
           }
          ],
          "scattercarpet": [
           {
            "marker": {
             "colorbar": {
              "outlinewidth": 0,
              "ticks": ""
             }
            },
            "type": "scattercarpet"
           }
          ],
          "scattergeo": [
           {
            "marker": {
             "colorbar": {
              "outlinewidth": 0,
              "ticks": ""
             }
            },
            "type": "scattergeo"
           }
          ],
          "scattergl": [
           {
            "marker": {
             "colorbar": {
              "outlinewidth": 0,
              "ticks": ""
             }
            },
            "type": "scattergl"
           }
          ],
          "scattermapbox": [
           {
            "marker": {
             "colorbar": {
              "outlinewidth": 0,
              "ticks": ""
             }
            },
            "type": "scattermapbox"
           }
          ],
          "scatterpolar": [
           {
            "marker": {
             "colorbar": {
              "outlinewidth": 0,
              "ticks": ""
             }
            },
            "type": "scatterpolar"
           }
          ],
          "scatterpolargl": [
           {
            "marker": {
             "colorbar": {
              "outlinewidth": 0,
              "ticks": ""
             }
            },
            "type": "scatterpolargl"
           }
          ],
          "scatterternary": [
           {
            "marker": {
             "colorbar": {
              "outlinewidth": 0,
              "ticks": ""
             }
            },
            "type": "scatterternary"
           }
          ],
          "surface": [
           {
            "colorbar": {
             "outlinewidth": 0,
             "ticks": ""
            },
            "colorscale": [
             [
              0,
              "#0d0887"
             ],
             [
              0.1111111111111111,
              "#46039f"
             ],
             [
              0.2222222222222222,
              "#7201a8"
             ],
             [
              0.3333333333333333,
              "#9c179e"
             ],
             [
              0.4444444444444444,
              "#bd3786"
             ],
             [
              0.5555555555555556,
              "#d8576b"
             ],
             [
              0.6666666666666666,
              "#ed7953"
             ],
             [
              0.7777777777777778,
              "#fb9f3a"
             ],
             [
              0.8888888888888888,
              "#fdca26"
             ],
             [
              1,
              "#f0f921"
             ]
            ],
            "type": "surface"
           }
          ],
          "table": [
           {
            "cells": {
             "fill": {
              "color": "#EBF0F8"
             },
             "line": {
              "color": "white"
             }
            },
            "header": {
             "fill": {
              "color": "#C8D4E3"
             },
             "line": {
              "color": "white"
             }
            },
            "type": "table"
           }
          ]
         },
         "layout": {
          "annotationdefaults": {
           "arrowcolor": "#2a3f5f",
           "arrowhead": 0,
           "arrowwidth": 1
          },
          "autotypenumbers": "strict",
          "coloraxis": {
           "colorbar": {
            "outlinewidth": 0,
            "ticks": ""
           }
          },
          "colorscale": {
           "diverging": [
            [
             0,
             "#8e0152"
            ],
            [
             0.1,
             "#c51b7d"
            ],
            [
             0.2,
             "#de77ae"
            ],
            [
             0.3,
             "#f1b6da"
            ],
            [
             0.4,
             "#fde0ef"
            ],
            [
             0.5,
             "#f7f7f7"
            ],
            [
             0.6,
             "#e6f5d0"
            ],
            [
             0.7,
             "#b8e186"
            ],
            [
             0.8,
             "#7fbc41"
            ],
            [
             0.9,
             "#4d9221"
            ],
            [
             1,
             "#276419"
            ]
           ],
           "sequential": [
            [
             0,
             "#0d0887"
            ],
            [
             0.1111111111111111,
             "#46039f"
            ],
            [
             0.2222222222222222,
             "#7201a8"
            ],
            [
             0.3333333333333333,
             "#9c179e"
            ],
            [
             0.4444444444444444,
             "#bd3786"
            ],
            [
             0.5555555555555556,
             "#d8576b"
            ],
            [
             0.6666666666666666,
             "#ed7953"
            ],
            [
             0.7777777777777778,
             "#fb9f3a"
            ],
            [
             0.8888888888888888,
             "#fdca26"
            ],
            [
             1,
             "#f0f921"
            ]
           ],
           "sequentialminus": [
            [
             0,
             "#0d0887"
            ],
            [
             0.1111111111111111,
             "#46039f"
            ],
            [
             0.2222222222222222,
             "#7201a8"
            ],
            [
             0.3333333333333333,
             "#9c179e"
            ],
            [
             0.4444444444444444,
             "#bd3786"
            ],
            [
             0.5555555555555556,
             "#d8576b"
            ],
            [
             0.6666666666666666,
             "#ed7953"
            ],
            [
             0.7777777777777778,
             "#fb9f3a"
            ],
            [
             0.8888888888888888,
             "#fdca26"
            ],
            [
             1,
             "#f0f921"
            ]
           ]
          },
          "colorway": [
           "#636efa",
           "#EF553B",
           "#00cc96",
           "#ab63fa",
           "#FFA15A",
           "#19d3f3",
           "#FF6692",
           "#B6E880",
           "#FF97FF",
           "#FECB52"
          ],
          "font": {
           "color": "#2a3f5f"
          },
          "geo": {
           "bgcolor": "white",
           "lakecolor": "white",
           "landcolor": "#E5ECF6",
           "showlakes": true,
           "showland": true,
           "subunitcolor": "white"
          },
          "hoverlabel": {
           "align": "left"
          },
          "hovermode": "closest",
          "mapbox": {
           "style": "light"
          },
          "paper_bgcolor": "white",
          "plot_bgcolor": "#E5ECF6",
          "polar": {
           "angularaxis": {
            "gridcolor": "white",
            "linecolor": "white",
            "ticks": ""
           },
           "bgcolor": "#E5ECF6",
           "radialaxis": {
            "gridcolor": "white",
            "linecolor": "white",
            "ticks": ""
           }
          },
          "scene": {
           "xaxis": {
            "backgroundcolor": "#E5ECF6",
            "gridcolor": "white",
            "gridwidth": 2,
            "linecolor": "white",
            "showbackground": true,
            "ticks": "",
            "zerolinecolor": "white"
           },
           "yaxis": {
            "backgroundcolor": "#E5ECF6",
            "gridcolor": "white",
            "gridwidth": 2,
            "linecolor": "white",
            "showbackground": true,
            "ticks": "",
            "zerolinecolor": "white"
           },
           "zaxis": {
            "backgroundcolor": "#E5ECF6",
            "gridcolor": "white",
            "gridwidth": 2,
            "linecolor": "white",
            "showbackground": true,
            "ticks": "",
            "zerolinecolor": "white"
           }
          },
          "shapedefaults": {
           "line": {
            "color": "#2a3f5f"
           }
          },
          "ternary": {
           "aaxis": {
            "gridcolor": "white",
            "linecolor": "white",
            "ticks": ""
           },
           "baxis": {
            "gridcolor": "white",
            "linecolor": "white",
            "ticks": ""
           },
           "bgcolor": "#E5ECF6",
           "caxis": {
            "gridcolor": "white",
            "linecolor": "white",
            "ticks": ""
           }
          },
          "title": {
           "x": 0.05
          },
          "xaxis": {
           "automargin": true,
           "gridcolor": "white",
           "linecolor": "white",
           "ticks": "",
           "title": {
            "standoff": 15
           },
           "zerolinecolor": "white",
           "zerolinewidth": 2
          },
          "yaxis": {
           "automargin": true,
           "gridcolor": "white",
           "linecolor": "white",
           "ticks": "",
           "title": {
            "standoff": 15
           },
           "zerolinecolor": "white",
           "zerolinewidth": 2
          }
         }
        },
        "title": {
         "text": "OMSCS Course Reviews - Difficulty v/s Rating"
        },
        "xaxis": {
         "anchor": "y",
         "domain": [
          0,
          1
         ],
         "range": [
          0,
          5
         ],
         "title": {
          "text": "difficulty"
         }
        },
        "yaxis": {
         "anchor": "x",
         "domain": [
          0,
          1
         ],
         "range": [
          0,
          5.5
         ],
         "title": {
          "text": "rating"
         }
        }
       }
      },
      "text/html": [
       "<div>                            <div id=\"efa11b1d-4fce-4c61-8481-4c5a34c991d2\" class=\"plotly-graph-div\" style=\"height:525px; width:100%;\"></div>            <script type=\"text/javascript\">                require([\"plotly\"], function(Plotly) {                    window.PLOTLYENV=window.PLOTLYENV || {};                                    if (document.getElementById(\"efa11b1d-4fce-4c61-8481-4c5a34c991d2\")) {                    Plotly.newPlot(                        \"efa11b1d-4fce-4c61-8481-4c5a34c991d2\",                        [{\"hovertemplate\":\"<b>%{hovertext}</b><br><br>difficulty=%{x}<br>rating=%{y}<br>workload=%{marker.size}<br>id=%{marker.color}<extra></extra>\",\"hovertext\":[\"AI, Ethics & Society\",\"Advanced Internet Systems & Applications\",\"Advanced Malware Analysis\",\"Advanced Operating Systems\",\"Applied Analytics Practicum\",\"Applied Cryptography\",\"Artificial Intelligence\",\"Artificial Intelligence for Robotics\",\"Bayesian Statistics\",\"Big Data for Health Informatics\",\"Business Fundamentals for Analytics\",\"Compilers: Theory & Practice\",\"Computational Data Analytics\",\"Computational Journalism\",\"Computational Photography\",\"Computational Statistics\",\"Computer Networks\",\"Computer Vision\",\"Computing for Data Analytics\",\"Computing for Good\",\"Cyber Physical Design & Analysis\",\"Data & Visual Analytics\",\"Data Analytics & Business\",\"Data Analytics & Continuous Improvement\",\"Data Analytics & Security\",\"Data Mining & Statistical Learning\",\"Database Systems Concepts & Design\",\"Deep Learning\",\"Deterministic Optimization\",\"Digital Marketing\",\"Distributed Computing\",\"Educational Technology\",\"Embedded Software\",\"Embedded Systems Optimization\",\"Financial Modeling\",\"Game AI\",\"High Performance Computer Architecture\",\"High Performance Computing\",\"High-Dimensional Data Analytics\",\"Human-Computer Interaction\",\"Information & Communications Policy\",\"Information Policy & Management\",\"Information Security Lab\",\"Information Security Lab: System & Network Defenses\",\"Information Security Policies\",\"International Security\",\"Internet & Public Policy\",\"Introduction to Analytics Modeling\",\"Introduction to Cognitive Science\",\"Introduction to Cyber Physical Electric Energy Systems\",\"Introduction to Cyber Physical Systems Security\",\"Introduction to Graduate Algorithms\",\"Introduction to Health Informatics\",\"Introduction to Information Security\",\"Introduction to Operating Systems\",\"Knowledge-Based Artificial Intelligence: Cognitive Systems\",\"Machine Learning\",\"Machine Learning for Trading\",\"Mobile & Ubiquitous Computing\",\"Modeling, Simulation & Military Gaming\",\"Network Science\",\"Network Security\",\"Privacy for Professionals\",\"Probabilistic Models\",\"Regression Analysis\",\"Reinforcement Learning\",\"Secure Computer Systems\",\"Security Operations & Incidence Response\",\"Side Channels & Their Role in Cybersecurity\",\"Simulation & Modeling for Engineering & Science\",\"Software Analysis\",\"Software Architecture & Design\",\"Software Development Process\",\"Systems Issues in Cloud Computing\",\"Time Series Analysis\",\"Video Game Design\"],\"legendgroup\":\"\",\"marker\":{\"color\":[50,6,7,121,4,39,243,275,57,72,84,16,35,1,183,1,436,190,112,2,32,262,108,13,21,18,238,73,42,25,31,94,11,35,15,17,108,78,32,212,3,8,20,4,17,7,1,152,3,1,74,323,106,419,308,281,354,363,2,4,25,128,12,1,90,191,29,7,1,101,140,189,308,9,32,14],\"coloraxis\":\"coloraxis\",\"size\":[6.04,13.166666666666666,16.142857142857142,17.173553719008265,13.5,16.58974358974359,22.91358024691358,12.639194139194139,12.368421052631579,29.13888888888889,7.946428571428571,29.875,14.6,15.0,16.761111111111113,12.0,8.782885085574572,21.436842105263157,9.981818181818182,8.5,12.125,16.14423076923077,5.671296296296297,4.0,3.7142857142857144,15.0,11.149789029535865,18.753424657534246,13.142857142857142,3.36,61.87096774193548,14.236559139784946,15.818181818181818,15.942857142857143,4.533333333333333,11.588235294117647,15.055555555555555,19.71794871794872,18.09375,12.034905660377358,2.3333333333333335,10.375,29.85,17.5,6.470588235294118,2.857142857142857,3.0,9.748344370860927,15.0,15.0,9.891891891891891,19.230529595015575,10.164893617021276,10.423508353221958,18.34397394136808,13.898214285714285,21.3792,11.183798882681565,8.0,6.0,13.12,12.84765625,3.5,5.0,8.911111111111111,22.329842931937172,14.655172413793103,5.428571428571429,10.0,11.05940594059406,12.621428571428572,11.558510638297872,9.043434343434344,30.555555555555557,15.46875,13.071428571428571],\"sizemode\":\"area\",\"sizeref\":0.024748387096774193,\"symbol\":\"circle\"},\"mode\":\"markers\",\"name\":\"\",\"orientation\":\"v\",\"showlegend\":false,\"type\":\"scatter\",\"x\":[1.7,3.1666666666666665,3.5714285714285716,4.1570247933884295,2.25,3.6923076923076925,4.061728395061729,3.0,3.210526315789474,4.277777777777778,2.9761904761904763,4.6875,3.6285714285714286,3.0,3.2185792349726774,3.0,2.4174311926605503,4.0473684210526315,3.1517857142857144,2.0,3.15625,3.2298850574712645,1.9259259259259258,1.1538461538461537,1.380952380952381,2.3333333333333335,2.827731092436975,3.8904109589041096,3.8095238095238093,1.32,4.645161290322581,2.8297872340425534,3.5454545454545454,3.6,1.2666666666666666,2.5294117647058822,3.6296296296296298,4.282051282051282,4.09375,2.5330188679245285,1.3333333333333333,2.5,4.3,4.0,1.8823529411764706,2.2857142857142856,1.0,2.8157894736842106,2.6666666666666665,4.0,2.5945945945945947,4.108359133126935,2.2641509433962264,2.539379474940334,3.668831168831169,3.0818505338078293,4.11864406779661,2.534435261707989,3.0,1.75,2.88,3.015625,2.0833333333333335,2.0,2.8444444444444446,4.146596858638744,3.4482758620689653,2.0,3.0,3.1881188118811883,3.2142857142857144,2.6031746031746033,2.301948051948052,4.444444444444445,4.28125,2.2142857142857144],\"xaxis\":\"x\",\"y\":[2.66,3.0,4.571428571428571,4.116279069767442,4.25,3.5384615384615383,4.122362869198312,3.9029535864978904,2.807017543859649,3.737704918032787,2.392857142857143,3.9375,4.0285714285714285,4.0,3.5947712418300655,3.0,3.524390243902439,3.765432098765432,4.330357142857143,2.5,2.96875,2.9808429118773945,2.3055555555555554,3.6153846153846154,2.9047619047619047,3.6666666666666665,2.59656652360515,3.9863013698630136,3.761904761904762,4.36,2.935483870967742,3.966666666666667,3.7,3.6,3.1333333333333333,4.705882352941177,3.840909090909091,4.2835820895522385,4.25,4.1084905660377355,4.333333333333333,2.75,4.55,3.25,3.4705882352941178,3.2857142857142856,4.0,4.151315789473684,4.0,2.0,3.418918918918919,3.551094890510949,2.566265060240964,3.4475,4.3604651162790695,3.6712962962962963,3.21602787456446,4.035190615835777,3.0,3.75,3.32,3.2109375,4.166666666666667,4.0,3.2555555555555555,3.92896174863388,2.9655172413793105,4.142857142857143,5.0,4.247524752475248,3.5,3.127388535031847,3.6016949152542375,4.666666666666667,1.84375,4.357142857142857],\"yaxis\":\"y\"}],                        {\"coloraxis\":{\"colorbar\":{\"title\":{\"text\":\"id\"}},\"colorscale\":[[0.0,\"#440154\"],[0.1111111111111111,\"#482878\"],[0.2222222222222222,\"#3e4989\"],[0.3333333333333333,\"#31688e\"],[0.4444444444444444,\"#26828e\"],[0.5555555555555556,\"#1f9e89\"],[0.6666666666666666,\"#35b779\"],[0.7777777777777778,\"#6ece58\"],[0.8888888888888888,\"#b5de2b\"],[1.0,\"#fde725\"]]},\"legend\":{\"itemsizing\":\"constant\",\"tracegroupgap\":0},\"shapes\":[{\"type\":\"line\",\"x0\":0,\"x1\":1,\"xref\":\"x domain\",\"y0\":3,\"y1\":3,\"yref\":\"y\"},{\"type\":\"line\",\"x0\":3,\"x1\":3,\"xref\":\"x\",\"y0\":0,\"y1\":1,\"yref\":\"y domain\"}],\"template\":{\"data\":{\"bar\":[{\"error_x\":{\"color\":\"#2a3f5f\"},\"error_y\":{\"color\":\"#2a3f5f\"},\"marker\":{\"line\":{\"color\":\"#E5ECF6\",\"width\":0.5},\"pattern\":{\"fillmode\":\"overlay\",\"size\":10,\"solidity\":0.2}},\"type\":\"bar\"}],\"barpolar\":[{\"marker\":{\"line\":{\"color\":\"#E5ECF6\",\"width\":0.5},\"pattern\":{\"fillmode\":\"overlay\",\"size\":10,\"solidity\":0.2}},\"type\":\"barpolar\"}],\"carpet\":[{\"aaxis\":{\"endlinecolor\":\"#2a3f5f\",\"gridcolor\":\"white\",\"linecolor\":\"white\",\"minorgridcolor\":\"white\",\"startlinecolor\":\"#2a3f5f\"},\"baxis\":{\"endlinecolor\":\"#2a3f5f\",\"gridcolor\":\"white\",\"linecolor\":\"white\",\"minorgridcolor\":\"white\",\"startlinecolor\":\"#2a3f5f\"},\"type\":\"carpet\"}],\"choropleth\":[{\"colorbar\":{\"outlinewidth\":0,\"ticks\":\"\"},\"type\":\"choropleth\"}],\"contour\":[{\"colorbar\":{\"outlinewidth\":0,\"ticks\":\"\"},\"colorscale\":[[0.0,\"#0d0887\"],[0.1111111111111111,\"#46039f\"],[0.2222222222222222,\"#7201a8\"],[0.3333333333333333,\"#9c179e\"],[0.4444444444444444,\"#bd3786\"],[0.5555555555555556,\"#d8576b\"],[0.6666666666666666,\"#ed7953\"],[0.7777777777777778,\"#fb9f3a\"],[0.8888888888888888,\"#fdca26\"],[1.0,\"#f0f921\"]],\"type\":\"contour\"}],\"contourcarpet\":[{\"colorbar\":{\"outlinewidth\":0,\"ticks\":\"\"},\"type\":\"contourcarpet\"}],\"heatmap\":[{\"colorbar\":{\"outlinewidth\":0,\"ticks\":\"\"},\"colorscale\":[[0.0,\"#0d0887\"],[0.1111111111111111,\"#46039f\"],[0.2222222222222222,\"#7201a8\"],[0.3333333333333333,\"#9c179e\"],[0.4444444444444444,\"#bd3786\"],[0.5555555555555556,\"#d8576b\"],[0.6666666666666666,\"#ed7953\"],[0.7777777777777778,\"#fb9f3a\"],[0.8888888888888888,\"#fdca26\"],[1.0,\"#f0f921\"]],\"type\":\"heatmap\"}],\"heatmapgl\":[{\"colorbar\":{\"outlinewidth\":0,\"ticks\":\"\"},\"colorscale\":[[0.0,\"#0d0887\"],[0.1111111111111111,\"#46039f\"],[0.2222222222222222,\"#7201a8\"],[0.3333333333333333,\"#9c179e\"],[0.4444444444444444,\"#bd3786\"],[0.5555555555555556,\"#d8576b\"],[0.6666666666666666,\"#ed7953\"],[0.7777777777777778,\"#fb9f3a\"],[0.8888888888888888,\"#fdca26\"],[1.0,\"#f0f921\"]],\"type\":\"heatmapgl\"}],\"histogram\":[{\"marker\":{\"pattern\":{\"fillmode\":\"overlay\",\"size\":10,\"solidity\":0.2}},\"type\":\"histogram\"}],\"histogram2d\":[{\"colorbar\":{\"outlinewidth\":0,\"ticks\":\"\"},\"colorscale\":[[0.0,\"#0d0887\"],[0.1111111111111111,\"#46039f\"],[0.2222222222222222,\"#7201a8\"],[0.3333333333333333,\"#9c179e\"],[0.4444444444444444,\"#bd3786\"],[0.5555555555555556,\"#d8576b\"],[0.6666666666666666,\"#ed7953\"],[0.7777777777777778,\"#fb9f3a\"],[0.8888888888888888,\"#fdca26\"],[1.0,\"#f0f921\"]],\"type\":\"histogram2d\"}],\"histogram2dcontour\":[{\"colorbar\":{\"outlinewidth\":0,\"ticks\":\"\"},\"colorscale\":[[0.0,\"#0d0887\"],[0.1111111111111111,\"#46039f\"],[0.2222222222222222,\"#7201a8\"],[0.3333333333333333,\"#9c179e\"],[0.4444444444444444,\"#bd3786\"],[0.5555555555555556,\"#d8576b\"],[0.6666666666666666,\"#ed7953\"],[0.7777777777777778,\"#fb9f3a\"],[0.8888888888888888,\"#fdca26\"],[1.0,\"#f0f921\"]],\"type\":\"histogram2dcontour\"}],\"mesh3d\":[{\"colorbar\":{\"outlinewidth\":0,\"ticks\":\"\"},\"type\":\"mesh3d\"}],\"parcoords\":[{\"line\":{\"colorbar\":{\"outlinewidth\":0,\"ticks\":\"\"}},\"type\":\"parcoords\"}],\"pie\":[{\"automargin\":true,\"type\":\"pie\"}],\"scatter\":[{\"marker\":{\"colorbar\":{\"outlinewidth\":0,\"ticks\":\"\"}},\"type\":\"scatter\"}],\"scatter3d\":[{\"line\":{\"colorbar\":{\"outlinewidth\":0,\"ticks\":\"\"}},\"marker\":{\"colorbar\":{\"outlinewidth\":0,\"ticks\":\"\"}},\"type\":\"scatter3d\"}],\"scattercarpet\":[{\"marker\":{\"colorbar\":{\"outlinewidth\":0,\"ticks\":\"\"}},\"type\":\"scattercarpet\"}],\"scattergeo\":[{\"marker\":{\"colorbar\":{\"outlinewidth\":0,\"ticks\":\"\"}},\"type\":\"scattergeo\"}],\"scattergl\":[{\"marker\":{\"colorbar\":{\"outlinewidth\":0,\"ticks\":\"\"}},\"type\":\"scattergl\"}],\"scattermapbox\":[{\"marker\":{\"colorbar\":{\"outlinewidth\":0,\"ticks\":\"\"}},\"type\":\"scattermapbox\"}],\"scatterpolar\":[{\"marker\":{\"colorbar\":{\"outlinewidth\":0,\"ticks\":\"\"}},\"type\":\"scatterpolar\"}],\"scatterpolargl\":[{\"marker\":{\"colorbar\":{\"outlinewidth\":0,\"ticks\":\"\"}},\"type\":\"scatterpolargl\"}],\"scatterternary\":[{\"marker\":{\"colorbar\":{\"outlinewidth\":0,\"ticks\":\"\"}},\"type\":\"scatterternary\"}],\"surface\":[{\"colorbar\":{\"outlinewidth\":0,\"ticks\":\"\"},\"colorscale\":[[0.0,\"#0d0887\"],[0.1111111111111111,\"#46039f\"],[0.2222222222222222,\"#7201a8\"],[0.3333333333333333,\"#9c179e\"],[0.4444444444444444,\"#bd3786\"],[0.5555555555555556,\"#d8576b\"],[0.6666666666666666,\"#ed7953\"],[0.7777777777777778,\"#fb9f3a\"],[0.8888888888888888,\"#fdca26\"],[1.0,\"#f0f921\"]],\"type\":\"surface\"}],\"table\":[{\"cells\":{\"fill\":{\"color\":\"#EBF0F8\"},\"line\":{\"color\":\"white\"}},\"header\":{\"fill\":{\"color\":\"#C8D4E3\"},\"line\":{\"color\":\"white\"}},\"type\":\"table\"}]},\"layout\":{\"annotationdefaults\":{\"arrowcolor\":\"#2a3f5f\",\"arrowhead\":0,\"arrowwidth\":1},\"autotypenumbers\":\"strict\",\"coloraxis\":{\"colorbar\":{\"outlinewidth\":0,\"ticks\":\"\"}},\"colorscale\":{\"diverging\":[[0,\"#8e0152\"],[0.1,\"#c51b7d\"],[0.2,\"#de77ae\"],[0.3,\"#f1b6da\"],[0.4,\"#fde0ef\"],[0.5,\"#f7f7f7\"],[0.6,\"#e6f5d0\"],[0.7,\"#b8e186\"],[0.8,\"#7fbc41\"],[0.9,\"#4d9221\"],[1,\"#276419\"]],\"sequential\":[[0.0,\"#0d0887\"],[0.1111111111111111,\"#46039f\"],[0.2222222222222222,\"#7201a8\"],[0.3333333333333333,\"#9c179e\"],[0.4444444444444444,\"#bd3786\"],[0.5555555555555556,\"#d8576b\"],[0.6666666666666666,\"#ed7953\"],[0.7777777777777778,\"#fb9f3a\"],[0.8888888888888888,\"#fdca26\"],[1.0,\"#f0f921\"]],\"sequentialminus\":[[0.0,\"#0d0887\"],[0.1111111111111111,\"#46039f\"],[0.2222222222222222,\"#7201a8\"],[0.3333333333333333,\"#9c179e\"],[0.4444444444444444,\"#bd3786\"],[0.5555555555555556,\"#d8576b\"],[0.6666666666666666,\"#ed7953\"],[0.7777777777777778,\"#fb9f3a\"],[0.8888888888888888,\"#fdca26\"],[1.0,\"#f0f921\"]]},\"colorway\":[\"#636efa\",\"#EF553B\",\"#00cc96\",\"#ab63fa\",\"#FFA15A\",\"#19d3f3\",\"#FF6692\",\"#B6E880\",\"#FF97FF\",\"#FECB52\"],\"font\":{\"color\":\"#2a3f5f\"},\"geo\":{\"bgcolor\":\"white\",\"lakecolor\":\"white\",\"landcolor\":\"#E5ECF6\",\"showlakes\":true,\"showland\":true,\"subunitcolor\":\"white\"},\"hoverlabel\":{\"align\":\"left\"},\"hovermode\":\"closest\",\"mapbox\":{\"style\":\"light\"},\"paper_bgcolor\":\"white\",\"plot_bgcolor\":\"#E5ECF6\",\"polar\":{\"angularaxis\":{\"gridcolor\":\"white\",\"linecolor\":\"white\",\"ticks\":\"\"},\"bgcolor\":\"#E5ECF6\",\"radialaxis\":{\"gridcolor\":\"white\",\"linecolor\":\"white\",\"ticks\":\"\"}},\"scene\":{\"xaxis\":{\"backgroundcolor\":\"#E5ECF6\",\"gridcolor\":\"white\",\"gridwidth\":2,\"linecolor\":\"white\",\"showbackground\":true,\"ticks\":\"\",\"zerolinecolor\":\"white\"},\"yaxis\":{\"backgroundcolor\":\"#E5ECF6\",\"gridcolor\":\"white\",\"gridwidth\":2,\"linecolor\":\"white\",\"showbackground\":true,\"ticks\":\"\",\"zerolinecolor\":\"white\"},\"zaxis\":{\"backgroundcolor\":\"#E5ECF6\",\"gridcolor\":\"white\",\"gridwidth\":2,\"linecolor\":\"white\",\"showbackground\":true,\"ticks\":\"\",\"zerolinecolor\":\"white\"}},\"shapedefaults\":{\"line\":{\"color\":\"#2a3f5f\"}},\"ternary\":{\"aaxis\":{\"gridcolor\":\"white\",\"linecolor\":\"white\",\"ticks\":\"\"},\"baxis\":{\"gridcolor\":\"white\",\"linecolor\":\"white\",\"ticks\":\"\"},\"bgcolor\":\"#E5ECF6\",\"caxis\":{\"gridcolor\":\"white\",\"linecolor\":\"white\",\"ticks\":\"\"}},\"title\":{\"x\":0.05},\"xaxis\":{\"automargin\":true,\"gridcolor\":\"white\",\"linecolor\":\"white\",\"ticks\":\"\",\"title\":{\"standoff\":15},\"zerolinecolor\":\"white\",\"zerolinewidth\":2},\"yaxis\":{\"automargin\":true,\"gridcolor\":\"white\",\"linecolor\":\"white\",\"ticks\":\"\",\"title\":{\"standoff\":15},\"zerolinecolor\":\"white\",\"zerolinewidth\":2}}},\"title\":{\"text\":\"OMSCS Course Reviews - Difficulty v/s Rating\"},\"xaxis\":{\"anchor\":\"y\",\"domain\":[0.0,1.0],\"range\":[0,5],\"title\":{\"text\":\"difficulty\"}},\"yaxis\":{\"anchor\":\"x\",\"domain\":[0.0,1.0],\"range\":[0,5.5],\"title\":{\"text\":\"rating\"}}},                        {\"responsive\": true}                    ).then(function(){\n",
       "                            \n",
       "var gd = document.getElementById('efa11b1d-4fce-4c61-8481-4c5a34c991d2');\n",
       "var x = new MutationObserver(function (mutations, observer) {{\n",
       "        var display = window.getComputedStyle(gd).display;\n",
       "        if (!display || display === 'none') {{\n",
       "            console.log([gd, 'removed!']);\n",
       "            Plotly.purge(gd);\n",
       "            observer.disconnect();\n",
       "        }}\n",
       "}});\n",
       "\n",
       "// Listen for the removal of the full notebook cells\n",
       "var notebookContainer = gd.closest('#notebook-container');\n",
       "if (notebookContainer) {{\n",
       "    x.observe(notebookContainer, {childList: true});\n",
       "}}\n",
       "\n",
       "// Listen for the clearing of the current output cell\n",
       "var outputEl = gd.closest('.output');\n",
       "if (outputEl) {{\n",
       "    x.observe(outputEl, {childList: true});\n",
       "}}\n",
       "\n",
       "                        })                };                });            </script>        </div>"
      ]
     },
     "metadata": {},
     "output_type": "display_data"
    }
   ],
   "source": [
    "import plotly.express as px\n",
    "\n",
    "X=\"difficulty\"\n",
    "Y=\"rating\"\n",
    "SIZE='workload'\n",
    "color='id'\n",
    "\n",
    "fig = px.scatter(agg, \n",
    "                 x=\"difficulty\", \n",
    "                 y=\"rating\",\n",
    "                 size=\"workload\", \n",
    "                 color=\"id\",\n",
    "                 hover_name=agg.index, \n",
    "                 size_max=50,\n",
    "                 color_continuous_scale=px.colors.sequential.Viridis,\n",
    "                 title=\"OMSCS Course Reviews - {} v/s {}\".format(X.title(), Y.title())\n",
    "                )\n",
    "fig.add_hline(y=3)\n",
    "fig.add_vline(x=3)\n",
    "fig.update_layout(yaxis_range=[0,5.5],xaxis_range=[0,5])\n",
    "# fig.add_vline(x=df_metrics[\"Avg. Delta PPSF\"].mean())\n",
    "fig.show()"
   ]
  },
  {
   "cell_type": "code",
   "execution_count": 73,
   "id": "b45e8138",
   "metadata": {},
   "outputs": [],
   "source": [
    "import streamlit as st"
   ]
  },
  {
   "cell_type": "code",
   "execution_count": 72,
   "id": "d74aeb95",
   "metadata": {},
   "outputs": [
    {
     "name": "stdout",
     "output_type": "stream",
     "text": [
      "Collecting streamlit\n",
      "  Downloading streamlit-1.12.0-py2.py3-none-any.whl (9.1 MB)\n",
      "Requirement already satisfied: click>=7.0 in c:\\users\\steve\\anaconda3\\lib\\site-packages (from streamlit) (7.1.2)\n",
      "Collecting pydeck>=0.1.dev5\n",
      "  Downloading pydeck-0.7.1-py2.py3-none-any.whl (4.3 MB)\n",
      "Collecting rich>=10.11.0\n",
      "  Downloading rich-12.5.1-py3-none-any.whl (235 kB)\n",
      "Requirement already satisfied: tornado>=5.0 in c:\\users\\steve\\anaconda3\\lib\\site-packages (from streamlit) (6.1)\n",
      "Collecting altair>=3.2.0\n",
      "  Downloading altair-4.2.0-py3-none-any.whl (812 kB)\n",
      "Collecting pympler>=0.9\n",
      "  Downloading Pympler-1.0.1-py3-none-any.whl (164 kB)\n",
      "Collecting typing-extensions>=3.10.0.0\n",
      "  Downloading typing_extensions-4.3.0-py3-none-any.whl (25 kB)\n",
      "Collecting tzlocal>=1.1\n",
      "  Downloading tzlocal-4.2-py3-none-any.whl (19 kB)\n",
      "Collecting blinker>=1.0.0\n",
      "  Downloading blinker-1.5-py2.py3-none-any.whl (12 kB)\n",
      "Requirement already satisfied: pillow>=6.2.0 in c:\\users\\steve\\anaconda3\\lib\\site-packages (from streamlit) (8.2.0)\n",
      "Collecting validators>=0.2\n",
      "  Downloading validators-0.20.0.tar.gz (30 kB)\n",
      "Requirement already satisfied: requests>=2.4 in c:\\users\\steve\\anaconda3\\lib\\site-packages (from streamlit) (2.25.1)\n",
      "Collecting gitpython!=3.1.19\n",
      "  Downloading GitPython-3.1.27-py3-none-any.whl (181 kB)\n",
      "Requirement already satisfied: watchdog in c:\\users\\steve\\anaconda3\\lib\\site-packages (from streamlit) (1.0.2)\n",
      "Collecting pyarrow>=4.0\n",
      "  Downloading pyarrow-9.0.0-cp38-cp38-win_amd64.whl (19.6 MB)\n",
      "Requirement already satisfied: packaging>=14.1 in c:\\users\\steve\\anaconda3\\lib\\site-packages (from streamlit) (20.9)\n",
      "Collecting protobuf<4,>=3.12\n",
      "  Downloading protobuf-3.20.1-cp38-cp38-win_amd64.whl (904 kB)\n",
      "Collecting semver\n",
      "  Downloading semver-2.13.0-py2.py3-none-any.whl (12 kB)\n",
      "Collecting cachetools>=4.0\n",
      "  Downloading cachetools-5.2.0-py3-none-any.whl (9.3 kB)\n",
      "Requirement already satisfied: python-dateutil in c:\\users\\steve\\anaconda3\\lib\\site-packages (from streamlit) (2.8.1)\n",
      "Requirement already satisfied: importlib-metadata>=1.4 in c:\\users\\steve\\anaconda3\\lib\\site-packages (from streamlit) (3.10.0)\n",
      "Requirement already satisfied: toml in c:\\users\\steve\\anaconda3\\lib\\site-packages (from streamlit) (0.10.2)\n",
      "Requirement already satisfied: numpy in c:\\users\\steve\\anaconda3\\lib\\site-packages (from streamlit) (1.20.1)\n",
      "Requirement already satisfied: pandas>=0.21.0 in c:\\users\\steve\\anaconda3\\lib\\site-packages (from streamlit) (1.2.4)\n",
      "Requirement already satisfied: entrypoints in c:\\users\\steve\\anaconda3\\lib\\site-packages (from altair>=3.2.0->streamlit) (0.3)\n",
      "Requirement already satisfied: toolz in c:\\users\\steve\\anaconda3\\lib\\site-packages (from altair>=3.2.0->streamlit) (0.11.1)\n",
      "Requirement already satisfied: jsonschema>=3.0 in c:\\users\\steve\\anaconda3\\lib\\site-packages (from altair>=3.2.0->streamlit) (3.2.0)\n",
      "Requirement already satisfied: jinja2 in c:\\users\\steve\\anaconda3\\lib\\site-packages (from altair>=3.2.0->streamlit) (2.11.3)\n",
      "Collecting gitdb<5,>=4.0.1\n",
      "  Downloading gitdb-4.0.9-py3-none-any.whl (63 kB)\n",
      "Collecting smmap<6,>=3.0.1\n",
      "  Downloading smmap-5.0.0-py3-none-any.whl (24 kB)\n",
      "Requirement already satisfied: zipp>=0.5 in c:\\users\\steve\\anaconda3\\lib\\site-packages (from importlib-metadata>=1.4->streamlit) (3.4.1)\n",
      "Requirement already satisfied: six>=1.11.0 in c:\\users\\steve\\anaconda3\\lib\\site-packages (from jsonschema>=3.0->altair>=3.2.0->streamlit) (1.15.0)\n",
      "Requirement already satisfied: pyrsistent>=0.14.0 in c:\\users\\steve\\anaconda3\\lib\\site-packages (from jsonschema>=3.0->altair>=3.2.0->streamlit) (0.17.3)\n",
      "Requirement already satisfied: attrs>=17.4.0 in c:\\users\\steve\\anaconda3\\lib\\site-packages (from jsonschema>=3.0->altair>=3.2.0->streamlit) (20.3.0)\n",
      "Requirement already satisfied: setuptools in c:\\users\\steve\\anaconda3\\lib\\site-packages (from jsonschema>=3.0->altair>=3.2.0->streamlit) (52.0.0.post20210125)\n",
      "Requirement already satisfied: pyparsing>=2.0.2 in c:\\users\\steve\\anaconda3\\lib\\site-packages (from packaging>=14.1->streamlit) (2.4.7)\n",
      "Requirement already satisfied: pytz>=2017.3 in c:\\users\\steve\\anaconda3\\lib\\site-packages (from pandas>=0.21.0->streamlit) (2021.1)\n",
      "Requirement already satisfied: traitlets>=4.3.2 in c:\\users\\steve\\anaconda3\\lib\\site-packages (from pydeck>=0.1.dev5->streamlit) (5.0.5)\n",
      "Requirement already satisfied: ipykernel>=5.1.2 in c:\\users\\steve\\anaconda3\\lib\\site-packages (from pydeck>=0.1.dev5->streamlit) (5.3.4)\n",
      "Requirement already satisfied: ipywidgets>=7.0.0 in c:\\users\\steve\\anaconda3\\lib\\site-packages (from pydeck>=0.1.dev5->streamlit) (7.6.3)\n",
      "Requirement already satisfied: ipython>=5.0.0 in c:\\users\\steve\\anaconda3\\lib\\site-packages (from ipykernel>=5.1.2->pydeck>=0.1.dev5->streamlit) (7.22.0)\n",
      "Requirement already satisfied: jupyter-client in c:\\users\\steve\\anaconda3\\lib\\site-packages (from ipykernel>=5.1.2->pydeck>=0.1.dev5->streamlit) (6.1.12)\n",
      "Requirement already satisfied: jedi>=0.16 in c:\\users\\steve\\anaconda3\\lib\\site-packages (from ipython>=5.0.0->ipykernel>=5.1.2->pydeck>=0.1.dev5->streamlit) (0.17.2)\n",
      "Requirement already satisfied: decorator in c:\\users\\steve\\anaconda3\\lib\\site-packages (from ipython>=5.0.0->ipykernel>=5.1.2->pydeck>=0.1.dev5->streamlit) (5.0.6)\n",
      "Requirement already satisfied: pygments in c:\\users\\steve\\anaconda3\\lib\\site-packages (from ipython>=5.0.0->ipykernel>=5.1.2->pydeck>=0.1.dev5->streamlit) (2.8.1)\n",
      "Requirement already satisfied: colorama in c:\\users\\steve\\anaconda3\\lib\\site-packages (from ipython>=5.0.0->ipykernel>=5.1.2->pydeck>=0.1.dev5->streamlit) (0.4.4)\n",
      "Requirement already satisfied: prompt-toolkit!=3.0.0,!=3.0.1,<3.1.0,>=2.0.0 in c:\\users\\steve\\anaconda3\\lib\\site-packages (from ipython>=5.0.0->ipykernel>=5.1.2->pydeck>=0.1.dev5->streamlit) (3.0.17)\n",
      "Requirement already satisfied: backcall in c:\\users\\steve\\anaconda3\\lib\\site-packages (from ipython>=5.0.0->ipykernel>=5.1.2->pydeck>=0.1.dev5->streamlit) (0.2.0)\n",
      "Requirement already satisfied: pickleshare in c:\\users\\steve\\anaconda3\\lib\\site-packages (from ipython>=5.0.0->ipykernel>=5.1.2->pydeck>=0.1.dev5->streamlit) (0.7.5)\n",
      "Requirement already satisfied: widgetsnbextension~=3.5.0 in c:\\users\\steve\\anaconda3\\lib\\site-packages (from ipywidgets>=7.0.0->pydeck>=0.1.dev5->streamlit) (3.5.1)\n",
      "Requirement already satisfied: nbformat>=4.2.0 in c:\\users\\steve\\anaconda3\\lib\\site-packages (from ipywidgets>=7.0.0->pydeck>=0.1.dev5->streamlit) (5.1.3)\n",
      "Requirement already satisfied: jupyterlab-widgets>=1.0.0 in c:\\users\\steve\\anaconda3\\lib\\site-packages (from ipywidgets>=7.0.0->pydeck>=0.1.dev5->streamlit) (1.0.0)\n",
      "Requirement already satisfied: parso<0.8.0,>=0.7.0 in c:\\users\\steve\\anaconda3\\lib\\site-packages (from jedi>=0.16->ipython>=5.0.0->ipykernel>=5.1.2->pydeck>=0.1.dev5->streamlit) (0.7.0)\n",
      "Requirement already satisfied: MarkupSafe>=0.23 in c:\\users\\steve\\anaconda3\\lib\\site-packages (from jinja2->altair>=3.2.0->streamlit) (1.1.1)\n",
      "Requirement already satisfied: jupyter-core in c:\\users\\steve\\anaconda3\\lib\\site-packages (from nbformat>=4.2.0->ipywidgets>=7.0.0->pydeck>=0.1.dev5->streamlit) (4.7.1)\n",
      "Requirement already satisfied: ipython-genutils in c:\\users\\steve\\anaconda3\\lib\\site-packages (from nbformat>=4.2.0->ipywidgets>=7.0.0->pydeck>=0.1.dev5->streamlit) (0.2.0)\n",
      "Requirement already satisfied: wcwidth in c:\\users\\steve\\anaconda3\\lib\\site-packages (from prompt-toolkit!=3.0.0,!=3.0.1,<3.1.0,>=2.0.0->ipython>=5.0.0->ipykernel>=5.1.2->pydeck>=0.1.dev5->streamlit) (0.2.5)\n",
      "Requirement already satisfied: certifi>=2017.4.17 in c:\\users\\steve\\anaconda3\\lib\\site-packages (from requests>=2.4->streamlit) (2020.12.5)\n",
      "Requirement already satisfied: chardet<5,>=3.0.2 in c:\\users\\steve\\anaconda3\\lib\\site-packages (from requests>=2.4->streamlit) (4.0.0)\n",
      "Requirement already satisfied: idna<3,>=2.5 in c:\\users\\steve\\anaconda3\\lib\\site-packages (from requests>=2.4->streamlit) (2.10)\n",
      "Requirement already satisfied: urllib3<1.27,>=1.21.1 in c:\\users\\steve\\anaconda3\\lib\\site-packages (from requests>=2.4->streamlit) (1.26.4)\n",
      "Collecting commonmark<0.10.0,>=0.9.0\n",
      "  Downloading commonmark-0.9.1-py2.py3-none-any.whl (51 kB)\n",
      "Collecting pytz-deprecation-shim\n",
      "  Downloading pytz_deprecation_shim-0.1.0.post0-py2.py3-none-any.whl (15 kB)\n",
      "Collecting tzdata\n",
      "  Downloading tzdata-2022.2-py2.py3-none-any.whl (336 kB)\n",
      "Collecting backports.zoneinfo\n",
      "  Downloading backports.zoneinfo-0.2.1-cp38-cp38-win_amd64.whl (38 kB)\n",
      "Requirement already satisfied: notebook>=4.4.1 in c:\\users\\steve\\anaconda3\\lib\\site-packages (from widgetsnbextension~=3.5.0->ipywidgets>=7.0.0->pydeck>=0.1.dev5->streamlit) (6.3.0)\n",
      "Requirement already satisfied: Send2Trash>=1.5.0 in c:\\users\\steve\\anaconda3\\lib\\site-packages (from notebook>=4.4.1->widgetsnbextension~=3.5.0->ipywidgets>=7.0.0->pydeck>=0.1.dev5->streamlit) (1.5.0)\n",
      "Requirement already satisfied: nbconvert in c:\\users\\steve\\anaconda3\\lib\\site-packages (from notebook>=4.4.1->widgetsnbextension~=3.5.0->ipywidgets>=7.0.0->pydeck>=0.1.dev5->streamlit) (6.0.7)\n",
      "Requirement already satisfied: argon2-cffi in c:\\users\\steve\\anaconda3\\lib\\site-packages (from notebook>=4.4.1->widgetsnbextension~=3.5.0->ipywidgets>=7.0.0->pydeck>=0.1.dev5->streamlit) (20.1.0)\n",
      "Requirement already satisfied: terminado>=0.8.3 in c:\\users\\steve\\anaconda3\\lib\\site-packages (from notebook>=4.4.1->widgetsnbextension~=3.5.0->ipywidgets>=7.0.0->pydeck>=0.1.dev5->streamlit) (0.9.4)\n",
      "Requirement already satisfied: prometheus-client in c:\\users\\steve\\anaconda3\\lib\\site-packages (from notebook>=4.4.1->widgetsnbextension~=3.5.0->ipywidgets>=7.0.0->pydeck>=0.1.dev5->streamlit) (0.10.1)\n",
      "Requirement already satisfied: pyzmq>=17 in c:\\users\\steve\\anaconda3\\lib\\site-packages (from notebook>=4.4.1->widgetsnbextension~=3.5.0->ipywidgets>=7.0.0->pydeck>=0.1.dev5->streamlit) (20.0.0)\n",
      "Requirement already satisfied: pywin32>=1.0 in c:\\users\\steve\\anaconda3\\lib\\site-packages (from jupyter-core->nbformat>=4.2.0->ipywidgets>=7.0.0->pydeck>=0.1.dev5->streamlit) (227)\n",
      "Requirement already satisfied: pywinpty>=0.5 in c:\\users\\steve\\anaconda3\\lib\\site-packages (from terminado>=0.8.3->notebook>=4.4.1->widgetsnbextension~=3.5.0->ipywidgets>=7.0.0->pydeck>=0.1.dev5->streamlit) (0.5.7)\n",
      "Requirement already satisfied: cffi>=1.0.0 in c:\\users\\steve\\anaconda3\\lib\\site-packages (from argon2-cffi->notebook>=4.4.1->widgetsnbextension~=3.5.0->ipywidgets>=7.0.0->pydeck>=0.1.dev5->streamlit) (1.14.5)\n",
      "Requirement already satisfied: pycparser in c:\\users\\steve\\anaconda3\\lib\\site-packages (from cffi>=1.0.0->argon2-cffi->notebook>=4.4.1->widgetsnbextension~=3.5.0->ipywidgets>=7.0.0->pydeck>=0.1.dev5->streamlit) (2.20)\n",
      "Requirement already satisfied: mistune<2,>=0.8.1 in c:\\users\\steve\\anaconda3\\lib\\site-packages (from nbconvert->notebook>=4.4.1->widgetsnbextension~=3.5.0->ipywidgets>=7.0.0->pydeck>=0.1.dev5->streamlit) (0.8.4)\n",
      "Requirement already satisfied: defusedxml in c:\\users\\steve\\anaconda3\\lib\\site-packages (from nbconvert->notebook>=4.4.1->widgetsnbextension~=3.5.0->ipywidgets>=7.0.0->pydeck>=0.1.dev5->streamlit) (0.7.1)\n",
      "Requirement already satisfied: jupyterlab-pygments in c:\\users\\steve\\anaconda3\\lib\\site-packages (from nbconvert->notebook>=4.4.1->widgetsnbextension~=3.5.0->ipywidgets>=7.0.0->pydeck>=0.1.dev5->streamlit) (0.1.2)\n",
      "Requirement already satisfied: nbclient<0.6.0,>=0.5.0 in c:\\users\\steve\\anaconda3\\lib\\site-packages (from nbconvert->notebook>=4.4.1->widgetsnbextension~=3.5.0->ipywidgets>=7.0.0->pydeck>=0.1.dev5->streamlit) (0.5.3)\n",
      "Requirement already satisfied: pandocfilters>=1.4.1 in c:\\users\\steve\\anaconda3\\lib\\site-packages (from nbconvert->notebook>=4.4.1->widgetsnbextension~=3.5.0->ipywidgets>=7.0.0->pydeck>=0.1.dev5->streamlit) (1.4.3)\n",
      "Requirement already satisfied: bleach in c:\\users\\steve\\anaconda3\\lib\\site-packages (from nbconvert->notebook>=4.4.1->widgetsnbextension~=3.5.0->ipywidgets>=7.0.0->pydeck>=0.1.dev5->streamlit) (3.3.0)\n",
      "Requirement already satisfied: testpath in c:\\users\\steve\\anaconda3\\lib\\site-packages (from nbconvert->notebook>=4.4.1->widgetsnbextension~=3.5.0->ipywidgets>=7.0.0->pydeck>=0.1.dev5->streamlit) (0.4.4)\n",
      "Requirement already satisfied: nest-asyncio in c:\\users\\steve\\anaconda3\\lib\\site-packages (from nbclient<0.6.0,>=0.5.0->nbconvert->notebook>=4.4.1->widgetsnbextension~=3.5.0->ipywidgets>=7.0.0->pydeck>=0.1.dev5->streamlit) (1.5.1)\n",
      "Requirement already satisfied: async-generator in c:\\users\\steve\\anaconda3\\lib\\site-packages (from nbclient<0.6.0,>=0.5.0->nbconvert->notebook>=4.4.1->widgetsnbextension~=3.5.0->ipywidgets>=7.0.0->pydeck>=0.1.dev5->streamlit) (1.10)\n",
      "Requirement already satisfied: webencodings in c:\\users\\steve\\anaconda3\\lib\\site-packages (from bleach->nbconvert->notebook>=4.4.1->widgetsnbextension~=3.5.0->ipywidgets>=7.0.0->pydeck>=0.1.dev5->streamlit) (0.5.1)\n",
      "Building wheels for collected packages: validators\n",
      "  Building wheel for validators (setup.py): started\n",
      "  Building wheel for validators (setup.py): finished with status 'done'\n",
      "  Created wheel for validators: filename=validators-0.20.0-py3-none-any.whl size=19567 sha256=f65cb57dff1bdc13eb430d6ea5636ff38b97199b9d1093fb076e217ecbf83d79\n",
      "  Stored in directory: c:\\users\\steve\\appdata\\local\\pip\\cache\\wheels\\19\\09\\72\\3eb74d236bb48bd0f3c6c3c83e4e0c5bbfcbcad7c6c3539db8\n",
      "Successfully built validators\n",
      "Installing collected packages: tzdata, smmap, backports.zoneinfo, typing-extensions, pytz-deprecation-shim, gitdb, commonmark, validators, tzlocal, semver, rich, pympler, pydeck, pyarrow, protobuf, gitpython, cachetools, blinker, altair, streamlit\n",
      "  Attempting uninstall: typing-extensions\n",
      "    Found existing installation: typing-extensions 3.7.4.3\n",
      "    Uninstalling typing-extensions-3.7.4.3:\n",
      "      Successfully uninstalled typing-extensions-3.7.4.3\n",
      "Successfully installed altair-4.2.0 backports.zoneinfo-0.2.1 blinker-1.5 cachetools-5.2.0 commonmark-0.9.1 gitdb-4.0.9 gitpython-3.1.27 protobuf-3.20.1 pyarrow-9.0.0 pydeck-0.7.1 pympler-1.0.1 pytz-deprecation-shim-0.1.0.post0 rich-12.5.1 semver-2.13.0 smmap-5.0.0 streamlit-1.12.0 typing-extensions-4.3.0 tzdata-2022.2 tzlocal-4.2 validators-0.20.0\n"
     ]
    }
   ],
   "source": [
    "st.title('OMSCS Reviews Visualization')"
   ]
  },
  {
   "cell_type": "code",
   "execution_count": null,
   "id": "b0bd5e45",
   "metadata": {},
   "outputs": [],
   "source": []
  }
 ],
 "metadata": {
  "kernelspec": {
   "display_name": "Python 3",
   "language": "python",
   "name": "python3"
  },
  "language_info": {
   "codemirror_mode": {
    "name": "ipython",
    "version": 3
   },
   "file_extension": ".py",
   "mimetype": "text/x-python",
   "name": "python",
   "nbconvert_exporter": "python",
   "pygments_lexer": "ipython3",
   "version": "3.8.8"
  },
  "toc": {
   "base_numbering": 1,
   "nav_menu": {},
   "number_sections": true,
   "sideBar": true,
   "skip_h1_title": false,
   "title_cell": "Table of Contents",
   "title_sidebar": "Contents",
   "toc_cell": false,
   "toc_position": {},
   "toc_section_display": true,
   "toc_window_display": false
  }
 },
 "nbformat": 4,
 "nbformat_minor": 5
}
